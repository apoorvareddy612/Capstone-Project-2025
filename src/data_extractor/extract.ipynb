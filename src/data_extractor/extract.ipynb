{
 "cells": [
  {
   "cell_type": "code",
   "execution_count": null,
   "metadata": {
    "vscode": {
     "languageId": "plaintext"
    }
   },
   "outputs": [],
   "source": [
    "// import yt_dlp\n",
    "// import time\n",
    "// import re\n",
    "// import os\n",
    "// from pydub import AudioSegment\n",
    "// import speech_recognition as sr\n",
    "// import math\n",
    "// from tqdm import tqdm\n",
    "// from googletrans import Translator\n",
    "// from threading import Thread\n",
    "\n",
    "// # Example usage\n",
    "// youtube_url = 'https://www.youtube.com/watch?v=kW_XDUAjFVM'\n",
    "// credentials_path = '/Users/apoorvareddy/Downloads/Academic/DATS6501/compact-retina-447922-c6-2889a6e457b3.json'\n",
    "\n",
    "// ydl_opts={}\n",
    "\n",
    "// with yt_dlp.YoutubeDL(ydl_opts) as ydl:\n",
    "//         info_dict = ydl.extract_info(youtube_url, download=False)\n",
    "// video_title = info_dict['title']\n",
    "// video_name = re.sub('[\\\\\\\\/*?:\"<>|]', '', video_title)\n",
    "// name = video_name\n",
    "// ydl_opts = {\n",
    "//      'format': 'm4a/bestaudio/best',\n",
    "//          'noplaylist': True,\n",
    "//          'continue_dl': True,\n",
    "//          'outtmpl': f'./{name}.wav',\n",
    "//          'postprocessors': [{\n",
    "//              'key': 'FFmpegExtractAudio',\n",
    "//              'preferredcodec': 'wav',\n",
    "//              'preferredquality': '192',\n",
    "//          }],\n",
    "//          'geobypass':True,\n",
    "//          'ffmpeg_location':'/usr/bin/ffmpeg'\n",
    "//  }\n",
    "\n",
    "// with yt_dlp.YoutubeDL(ydl_opts) as ydl:\n",
    "//      error_code = ydl.download(youtube_url)"
   ]
  }
 ],
 "metadata": {
  "language_info": {
   "name": "python"
  }
 },
 "nbformat": 4,
 "nbformat_minor": 2
}
