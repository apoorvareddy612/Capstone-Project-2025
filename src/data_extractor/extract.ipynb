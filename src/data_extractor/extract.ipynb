{
  "cells": [
    {
      "cell_type": "markdown",
      "metadata": {
        "id": "view-in-github",
        "colab_type": "text"
      },
      "source": [
        "<a href=\"https://colab.research.google.com/github/apoorvareddy612/Capstone-Project-2025/blob/main/src/data_extractor/extract.ipynb\" target=\"_parent\"><img src=\"https://colab.research.google.com/assets/colab-badge.svg\" alt=\"Open In Colab\"/></a>"
      ]
    },
    {
      "cell_type": "code",
      "source": [
        "!pip install --upgrade yt_dlp\n",
        "!pip install pydub SpeechRecognition ffmpeg ffprobe googletrans==3.1.0a0 transformers\n",
        "!pip install google-cloud-speech yt-dlp pydub tqdm"
      ],
      "metadata": {
        "colab": {
          "base_uri": "https://localhost:8080/"
        },
        "id": "UNzQy82DIYF5",
        "outputId": "b3a1af19-03d9-448e-bb5e-03361ab934d8"
      },
      "execution_count": 1,
      "outputs": [
        {
          "output_type": "stream",
          "name": "stdout",
          "text": [
            "Requirement already satisfied: yt_dlp in /usr/local/lib/python3.11/dist-packages (2025.1.12)\n",
            "Requirement already satisfied: pydub in /usr/local/lib/python3.11/dist-packages (0.25.1)\n",
            "Requirement already satisfied: SpeechRecognition in /usr/local/lib/python3.11/dist-packages (3.14.0)\n",
            "Requirement already satisfied: ffmpeg in /usr/local/lib/python3.11/dist-packages (1.4)\n",
            "Requirement already satisfied: ffprobe in /usr/local/lib/python3.11/dist-packages (0.5)\n",
            "Requirement already satisfied: googletrans==3.1.0a0 in /usr/local/lib/python3.11/dist-packages (3.1.0a0)\n",
            "Requirement already satisfied: transformers in /usr/local/lib/python3.11/dist-packages (4.47.1)\n",
            "Requirement already satisfied: httpx==0.13.3 in /usr/local/lib/python3.11/dist-packages (from googletrans==3.1.0a0) (0.13.3)\n",
            "Requirement already satisfied: certifi in /usr/local/lib/python3.11/dist-packages (from httpx==0.13.3->googletrans==3.1.0a0) (2024.12.14)\n",
            "Requirement already satisfied: hstspreload in /usr/local/lib/python3.11/dist-packages (from httpx==0.13.3->googletrans==3.1.0a0) (2025.1.1)\n",
            "Requirement already satisfied: sniffio in /usr/local/lib/python3.11/dist-packages (from httpx==0.13.3->googletrans==3.1.0a0) (1.3.1)\n",
            "Requirement already satisfied: chardet==3.* in /usr/local/lib/python3.11/dist-packages (from httpx==0.13.3->googletrans==3.1.0a0) (3.0.4)\n",
            "Requirement already satisfied: idna==2.* in /usr/local/lib/python3.11/dist-packages (from httpx==0.13.3->googletrans==3.1.0a0) (2.10)\n",
            "Requirement already satisfied: rfc3986<2,>=1.3 in /usr/local/lib/python3.11/dist-packages (from httpx==0.13.3->googletrans==3.1.0a0) (1.5.0)\n",
            "Requirement already satisfied: httpcore==0.9.* in /usr/local/lib/python3.11/dist-packages (from httpx==0.13.3->googletrans==3.1.0a0) (0.9.1)\n",
            "Requirement already satisfied: h11<0.10,>=0.8 in /usr/local/lib/python3.11/dist-packages (from httpcore==0.9.*->httpx==0.13.3->googletrans==3.1.0a0) (0.9.0)\n",
            "Requirement already satisfied: h2==3.* in /usr/local/lib/python3.11/dist-packages (from httpcore==0.9.*->httpx==0.13.3->googletrans==3.1.0a0) (3.2.0)\n",
            "Requirement already satisfied: hyperframe<6,>=5.2.0 in /usr/local/lib/python3.11/dist-packages (from h2==3.*->httpcore==0.9.*->httpx==0.13.3->googletrans==3.1.0a0) (5.2.0)\n",
            "Requirement already satisfied: hpack<4,>=3.0 in /usr/local/lib/python3.11/dist-packages (from h2==3.*->httpcore==0.9.*->httpx==0.13.3->googletrans==3.1.0a0) (3.0.0)\n",
            "Requirement already satisfied: typing-extensions in /usr/local/lib/python3.11/dist-packages (from SpeechRecognition) (4.12.2)\n",
            "Requirement already satisfied: filelock in /usr/local/lib/python3.11/dist-packages (from transformers) (3.16.1)\n",
            "Requirement already satisfied: huggingface-hub<1.0,>=0.24.0 in /usr/local/lib/python3.11/dist-packages (from transformers) (0.27.1)\n",
            "Requirement already satisfied: numpy>=1.17 in /usr/local/lib/python3.11/dist-packages (from transformers) (1.26.4)\n",
            "Requirement already satisfied: packaging>=20.0 in /usr/local/lib/python3.11/dist-packages (from transformers) (24.2)\n",
            "Requirement already satisfied: pyyaml>=5.1 in /usr/local/lib/python3.11/dist-packages (from transformers) (6.0.2)\n",
            "Requirement already satisfied: regex!=2019.12.17 in /usr/local/lib/python3.11/dist-packages (from transformers) (2024.11.6)\n",
            "Requirement already satisfied: requests in /usr/local/lib/python3.11/dist-packages (from transformers) (2.32.3)\n",
            "Requirement already satisfied: tokenizers<0.22,>=0.21 in /usr/local/lib/python3.11/dist-packages (from transformers) (0.21.0)\n",
            "Requirement already satisfied: safetensors>=0.4.1 in /usr/local/lib/python3.11/dist-packages (from transformers) (0.5.2)\n",
            "Requirement already satisfied: tqdm>=4.27 in /usr/local/lib/python3.11/dist-packages (from transformers) (4.67.1)\n",
            "Requirement already satisfied: fsspec>=2023.5.0 in /usr/local/lib/python3.11/dist-packages (from huggingface-hub<1.0,>=0.24.0->transformers) (2024.10.0)\n",
            "Requirement already satisfied: charset-normalizer<4,>=2 in /usr/local/lib/python3.11/dist-packages (from requests->transformers) (3.4.1)\n",
            "Requirement already satisfied: urllib3<3,>=1.21.1 in /usr/local/lib/python3.11/dist-packages (from requests->transformers) (2.3.0)\n",
            "Requirement already satisfied: google-cloud-speech in /usr/local/lib/python3.11/dist-packages (2.30.0)\n",
            "Requirement already satisfied: yt-dlp in /usr/local/lib/python3.11/dist-packages (2025.1.12)\n",
            "Requirement already satisfied: pydub in /usr/local/lib/python3.11/dist-packages (0.25.1)\n",
            "Requirement already satisfied: tqdm in /usr/local/lib/python3.11/dist-packages (4.67.1)\n",
            "Requirement already satisfied: google-api-core!=2.0.*,!=2.1.*,!=2.10.*,!=2.2.*,!=2.3.*,!=2.4.*,!=2.5.*,!=2.6.*,!=2.7.*,!=2.8.*,!=2.9.*,<3.0.0dev,>=1.34.1 in /usr/local/lib/python3.11/dist-packages (from google-api-core[grpc]!=2.0.*,!=2.1.*,!=2.10.*,!=2.2.*,!=2.3.*,!=2.4.*,!=2.5.*,!=2.6.*,!=2.7.*,!=2.8.*,!=2.9.*,<3.0.0dev,>=1.34.1->google-cloud-speech) (2.19.2)\n",
            "Requirement already satisfied: google-auth!=2.24.0,!=2.25.0,<3.0.0dev,>=2.14.1 in /usr/local/lib/python3.11/dist-packages (from google-cloud-speech) (2.27.0)\n",
            "Requirement already satisfied: proto-plus<2.0.0dev,>=1.22.3 in /usr/local/lib/python3.11/dist-packages (from google-cloud-speech) (1.25.0)\n",
            "Requirement already satisfied: protobuf!=4.21.0,!=4.21.1,!=4.21.2,!=4.21.3,!=4.21.4,!=4.21.5,<6.0.0dev,>=3.20.2 in /usr/local/lib/python3.11/dist-packages (from google-cloud-speech) (4.25.5)\n",
            "Requirement already satisfied: googleapis-common-protos<2.0.dev0,>=1.56.2 in /usr/local/lib/python3.11/dist-packages (from google-api-core!=2.0.*,!=2.1.*,!=2.10.*,!=2.2.*,!=2.3.*,!=2.4.*,!=2.5.*,!=2.6.*,!=2.7.*,!=2.8.*,!=2.9.*,<3.0.0dev,>=1.34.1->google-api-core[grpc]!=2.0.*,!=2.1.*,!=2.10.*,!=2.2.*,!=2.3.*,!=2.4.*,!=2.5.*,!=2.6.*,!=2.7.*,!=2.8.*,!=2.9.*,<3.0.0dev,>=1.34.1->google-cloud-speech) (1.66.0)\n",
            "Requirement already satisfied: requests<3.0.0.dev0,>=2.18.0 in /usr/local/lib/python3.11/dist-packages (from google-api-core!=2.0.*,!=2.1.*,!=2.10.*,!=2.2.*,!=2.3.*,!=2.4.*,!=2.5.*,!=2.6.*,!=2.7.*,!=2.8.*,!=2.9.*,<3.0.0dev,>=1.34.1->google-api-core[grpc]!=2.0.*,!=2.1.*,!=2.10.*,!=2.2.*,!=2.3.*,!=2.4.*,!=2.5.*,!=2.6.*,!=2.7.*,!=2.8.*,!=2.9.*,<3.0.0dev,>=1.34.1->google-cloud-speech) (2.32.3)\n",
            "Requirement already satisfied: grpcio<2.0dev,>=1.33.2 in /usr/local/lib/python3.11/dist-packages (from google-api-core[grpc]!=2.0.*,!=2.1.*,!=2.10.*,!=2.2.*,!=2.3.*,!=2.4.*,!=2.5.*,!=2.6.*,!=2.7.*,!=2.8.*,!=2.9.*,<3.0.0dev,>=1.34.1->google-cloud-speech) (1.69.0)\n",
            "Requirement already satisfied: grpcio-status<2.0.dev0,>=1.33.2 in /usr/local/lib/python3.11/dist-packages (from google-api-core[grpc]!=2.0.*,!=2.1.*,!=2.10.*,!=2.2.*,!=2.3.*,!=2.4.*,!=2.5.*,!=2.6.*,!=2.7.*,!=2.8.*,!=2.9.*,<3.0.0dev,>=1.34.1->google-cloud-speech) (1.62.3)\n",
            "Requirement already satisfied: cachetools<6.0,>=2.0.0 in /usr/local/lib/python3.11/dist-packages (from google-auth!=2.24.0,!=2.25.0,<3.0.0dev,>=2.14.1->google-cloud-speech) (5.5.0)\n",
            "Requirement already satisfied: pyasn1-modules>=0.2.1 in /usr/local/lib/python3.11/dist-packages (from google-auth!=2.24.0,!=2.25.0,<3.0.0dev,>=2.14.1->google-cloud-speech) (0.4.1)\n",
            "Requirement already satisfied: rsa<5,>=3.1.4 in /usr/local/lib/python3.11/dist-packages (from google-auth!=2.24.0,!=2.25.0,<3.0.0dev,>=2.14.1->google-cloud-speech) (4.9)\n",
            "Requirement already satisfied: pyasn1<0.7.0,>=0.4.6 in /usr/local/lib/python3.11/dist-packages (from pyasn1-modules>=0.2.1->google-auth!=2.24.0,!=2.25.0,<3.0.0dev,>=2.14.1->google-cloud-speech) (0.6.1)\n",
            "Requirement already satisfied: charset-normalizer<4,>=2 in /usr/local/lib/python3.11/dist-packages (from requests<3.0.0.dev0,>=2.18.0->google-api-core!=2.0.*,!=2.1.*,!=2.10.*,!=2.2.*,!=2.3.*,!=2.4.*,!=2.5.*,!=2.6.*,!=2.7.*,!=2.8.*,!=2.9.*,<3.0.0dev,>=1.34.1->google-api-core[grpc]!=2.0.*,!=2.1.*,!=2.10.*,!=2.2.*,!=2.3.*,!=2.4.*,!=2.5.*,!=2.6.*,!=2.7.*,!=2.8.*,!=2.9.*,<3.0.0dev,>=1.34.1->google-cloud-speech) (3.4.1)\n",
            "Requirement already satisfied: idna<4,>=2.5 in /usr/local/lib/python3.11/dist-packages (from requests<3.0.0.dev0,>=2.18.0->google-api-core!=2.0.*,!=2.1.*,!=2.10.*,!=2.2.*,!=2.3.*,!=2.4.*,!=2.5.*,!=2.6.*,!=2.7.*,!=2.8.*,!=2.9.*,<3.0.0dev,>=1.34.1->google-api-core[grpc]!=2.0.*,!=2.1.*,!=2.10.*,!=2.2.*,!=2.3.*,!=2.4.*,!=2.5.*,!=2.6.*,!=2.7.*,!=2.8.*,!=2.9.*,<3.0.0dev,>=1.34.1->google-cloud-speech) (2.10)\n",
            "Requirement already satisfied: urllib3<3,>=1.21.1 in /usr/local/lib/python3.11/dist-packages (from requests<3.0.0.dev0,>=2.18.0->google-api-core!=2.0.*,!=2.1.*,!=2.10.*,!=2.2.*,!=2.3.*,!=2.4.*,!=2.5.*,!=2.6.*,!=2.7.*,!=2.8.*,!=2.9.*,<3.0.0dev,>=1.34.1->google-api-core[grpc]!=2.0.*,!=2.1.*,!=2.10.*,!=2.2.*,!=2.3.*,!=2.4.*,!=2.5.*,!=2.6.*,!=2.7.*,!=2.8.*,!=2.9.*,<3.0.0dev,>=1.34.1->google-cloud-speech) (2.3.0)\n",
            "Requirement already satisfied: certifi>=2017.4.17 in /usr/local/lib/python3.11/dist-packages (from requests<3.0.0.dev0,>=2.18.0->google-api-core!=2.0.*,!=2.1.*,!=2.10.*,!=2.2.*,!=2.3.*,!=2.4.*,!=2.5.*,!=2.6.*,!=2.7.*,!=2.8.*,!=2.9.*,<3.0.0dev,>=1.34.1->google-api-core[grpc]!=2.0.*,!=2.1.*,!=2.10.*,!=2.2.*,!=2.3.*,!=2.4.*,!=2.5.*,!=2.6.*,!=2.7.*,!=2.8.*,!=2.9.*,<3.0.0dev,>=1.34.1->google-cloud-speech) (2024.12.14)\n"
          ]
        }
      ]
    },
    {
      "cell_type": "code",
      "source": [
        "from google.colab import drive\n",
        "drive.mount('/content/drive')"
      ],
      "metadata": {
        "colab": {
          "base_uri": "https://localhost:8080/"
        },
        "id": "IrXNjJoqJAAo",
        "outputId": "3d481d2b-d503-449a-b7da-b6f5a86d0ba6"
      },
      "execution_count": 2,
      "outputs": [
        {
          "output_type": "stream",
          "name": "stdout",
          "text": [
            "Drive already mounted at /content/drive; to attempt to forcibly remount, call drive.mount(\"/content/drive\", force_remount=True).\n"
          ]
        }
      ]
    },
    {
      "cell_type": "code",
      "execution_count": 3,
      "metadata": {
        "vscode": {
          "languageId": "plaintext"
        },
        "colab": {
          "base_uri": "https://localhost:8080/"
        },
        "id": "wNzYna9YILUK",
        "outputId": "3e4e87d6-a0ec-46cb-c70b-1cee07239bad"
      },
      "outputs": [
        {
          "output_type": "stream",
          "name": "stdout",
          "text": [
            "[youtube] Extracting URL: https://www.youtube.com/watch?v=kW_XDUAjFVM\n",
            "[youtube] kW_XDUAjFVM: Downloading webpage\n",
            "[youtube] kW_XDUAjFVM: Downloading ios player API JSON\n",
            "[youtube] kW_XDUAjFVM: Downloading tv player API JSON\n",
            "[youtube] kW_XDUAjFVM: Downloading player 6e1dd460\n",
            "[youtube] kW_XDUAjFVM: Downloading m3u8 information\n",
            "[youtube] Extracting URL: https://www.youtube.com/watch?v=kW_XDUAjFVM\n",
            "[youtube] kW_XDUAjFVM: Downloading webpage\n",
            "[youtube] kW_XDUAjFVM: Downloading ios player API JSON\n",
            "[youtube] kW_XDUAjFVM: Downloading tv player API JSON\n",
            "[youtube] kW_XDUAjFVM: Downloading m3u8 information\n",
            "[info] kW_XDUAjFVM: Downloading 1 format(s): 140\n",
            "[download] Destination: /content/drive/MyDrive/Data/Short Stuff Flower Power  STUFF YOU SHOULD KNOW.wav\n",
            "[download] 100% of   11.04MiB in 00:00:00 at 23.24MiB/s  \n",
            "[FixupM4a] Correcting container of \"/content/drive/MyDrive/Data/Short Stuff Flower Power  STUFF YOU SHOULD KNOW.wav\"\n",
            "[ExtractAudio] Destination: /content/drive/MyDrive/Data/Short Stuff Flower Power  STUFF YOU SHOULD KNOW.wav.wav\n",
            "Deleting original file /content/drive/MyDrive/Data/Short Stuff Flower Power  STUFF YOU SHOULD KNOW.wav (pass -k to keep)\n"
          ]
        }
      ],
      "source": [
        "# import yt_dlp\n",
        "# import time\n",
        "# import re\n",
        "# import os\n",
        "# from pydub import AudioSegment\n",
        "# import speech_recognition as sr\n",
        "# import math\n",
        "# from tqdm import tqdm\n",
        "# from googletrans import Translator\n",
        "# from threading import Thread\n",
        "\n",
        "\n",
        "# # Example usage\n",
        "# youtube_url = 'https://www.youtube.com/watch?v=kW_XDUAjFVM'\n",
        "# credentials_path = '/Users/apoorvareddy/Downloads/Academic/DATS6501/compact-retina-447922-c6-2889a6e457b3.json'\n",
        "\n",
        "# ydl_opts={}\n",
        "\n",
        "# with yt_dlp.YoutubeDL(ydl_opts) as ydl:\n",
        "#         info_dict = ydl.extract_info(youtube_url, download=False)\n",
        "# video_title = info_dict['title']\n",
        "# video_name = re.sub('[\\\\\\\\/*?:\"<>|]', '', video_title)\n",
        "# name = video_name\n",
        "# ydl_opts = {\n",
        "#      'format': 'm4a/bestaudio/best',\n",
        "#          'noplaylist': True,\n",
        "#          'continue_dl': True,\n",
        "#          'outtmpl': f'/content/drive/MyDrive/Data/{name}.wav',\n",
        "#          'postprocessors': [{\n",
        "#              'key': 'FFmpegExtractAudio',\n",
        "#              'preferredcodec': 'wav',\n",
        "#              'preferredquality': '192',\n",
        "#          }],\n",
        "#          'geobypass':True,\n",
        "#          'ffmpeg_location':'/usr/bin/ffmpeg'\n",
        "#  }\n",
        "\n",
        "# with yt_dlp.YoutubeDL(ydl_opts) as ydl:\n",
        "#      error_code = ydl.download(youtube_url)"
      ]
    },
    {
      "cell_type": "code",
      "source": [
        "import yt_dlp\n",
        "import re\n",
        "import os\n",
        "from pydub import AudioSegment\n",
        "from google.cloud import speech_v1 as speech\n",
        "from google.oauth2 import service_account\n",
        "from tqdm import tqdm\n",
        "import math\n",
        "import uuid\n",
        "\n",
        "def download_audio(youtube_url, output_dir):\n",
        "    unique_id = str(uuid.uuid4())\n",
        "    ydl_opts = {\n",
        "        'format': 'm4a/bestaudio/best',\n",
        "        'noplaylist': True,\n",
        "        'outtmpl': os.path.join(output_dir, f\"{unique_id}\"),  # Unique ID with extension\n",
        "        'postprocessors': [{\n",
        "            'key': 'FFmpegExtractAudio',\n",
        "            'preferredcodec': 'mp3',\n",
        "            'preferredquality': '320',\n",
        "        }],\n",
        "        'ffmpeg_location': '/usr/bin/ffmpeg'\n",
        "    }\n",
        "\n",
        "    with yt_dlp.YoutubeDL(ydl_opts) as ydl:\n",
        "        ydl.extract_info(youtube_url, download=True)\n",
        "        return os.path.join(output_dir, f\"{unique_id}.mp3\")\n",
        "\n",
        "\n",
        "def split_audio(file_path, chunk_length_ms):\n",
        "    audio = AudioSegment.from_file(file_path)\n",
        "    print(audio)\n",
        "    chunks = []\n",
        "    for i in range(0, len(audio), chunk_length_ms):\n",
        "        chunk = audio[i:i+chunk_length_ms]\n",
        "        chunks.append(chunk)\n",
        "\n",
        "        # Calculate the size in MB\n",
        "        chunk_size_mb = len(chunk.raw_data) / (1024 * 1024)\n",
        "        print(f\"Chunk {len(chunks)} size: {chunk_size_mb:.2f} MB\")\n",
        "\n",
        "    return chunks\n",
        "\n",
        "# Define the function to transcribe audio using Google Speech-to-Text API\n",
        "def transcribe_audio_chunk(audio_chunk, credentials_path, language=\"en-US\"):\n",
        "    credentials = service_account.Credentials.from_service_account_file(credentials_path)\n",
        "    client = speech.SpeechClient(credentials=credentials)\n",
        "\n",
        "    audio_content = audio_chunk.raw_data\n",
        "    audio = speech.RecognitionAudio(content=audio_content)\n",
        "    config = speech.RecognitionConfig(\n",
        "        encoding=speech.RecognitionConfig.AudioEncoding.LINEAR16,\n",
        "        sample_rate_hertz=48000,\n",
        "        language_code=language\n",
        "    )\n",
        "\n",
        "    response = client.recognize(config=config, audio=audio)\n",
        "    transcripts = [result.alternatives[0].transcript for result in response.results]\n",
        "    return ' '.join(transcripts)\n",
        "\n",
        "# Main function to process the YouTube video and transcribe\n",
        "def transcribe_youtube_podcast(youtube_url, credentials_path, output_dir=\"/content/drive/MyDrive/Data\", chunk_length_ms=10000):\n",
        "    os.makedirs(output_dir, exist_ok=True)\n",
        "    audio_file = download_audio(youtube_url, output_dir)\n",
        "\n",
        "    print(f\"Audio downloaded to {audio_file}\")\n",
        "\n",
        "    # Split audio into manageable chunks\n",
        "    audio_chunks = split_audio(audio_file, chunk_length_ms)\n",
        "    print(f\"Audio split into {len(audio_chunks)} chunks.\")\n",
        "\n",
        "    # Transcribe each chunk and combine results\n",
        "    full_transcript = \"\"\n",
        "    for i, chunk in enumerate(tqdm(audio_chunks, desc=\"Transcribing audio chunks\")):\n",
        "        try:\n",
        "            transcript = transcribe_audio_chunk(chunk, credentials_path)\n",
        "            full_transcript += f\"Chunk {i+1}:\\n{transcript}\\n\\n\"\n",
        "        except Exception as e:\n",
        "            print(f\"Error transcribing chunk {i+1}: {e}\")\n",
        "\n",
        "    # Save the transcript to a file\n",
        "    transcript_file = os.path.join(output_dir, \"transcript.txt\")\n",
        "    with open(transcript_file, \"w\") as f:\n",
        "        f.write(full_transcript)\n",
        "\n",
        "    print(f\"Transcription complete. Transcript saved to {transcript_file}\")\n",
        "\n",
        "# Example usage\n",
        "youtube_url = 'https://www.youtube.com/watch?v=kW_XDUAjFVM'\n",
        "credentials_path = '/content/drive/MyDrive/compact-retina-447922-c6-2889a6e457b3.json'\n",
        "transcribe_youtube_podcast(youtube_url, credentials_path)"
      ],
      "metadata": {
        "colab": {
          "base_uri": "https://localhost:8080/"
        },
        "id": "31qNxe9VI9TR",
        "outputId": "97f6e3c5-e185-4da2-c0df-5bd97c6c6a90"
      },
      "execution_count": 56,
      "outputs": [
        {
          "output_type": "stream",
          "name": "stdout",
          "text": [
            "[youtube] Extracting URL: https://www.youtube.com/watch?v=kW_XDUAjFVM\n",
            "[youtube] kW_XDUAjFVM: Downloading webpage\n",
            "[youtube] kW_XDUAjFVM: Downloading ios player API JSON\n",
            "[youtube] kW_XDUAjFVM: Downloading tv player API JSON\n",
            "[youtube] kW_XDUAjFVM: Downloading m3u8 information\n",
            "[info] kW_XDUAjFVM: Downloading 1 format(s): 140\n",
            "[download] Destination: /content/drive/MyDrive/Data/9d483643-b3b4-45fb-b289-acbbb436a711\n",
            "[download] 100% of   11.04MiB in 00:00:00 at 29.79MiB/s  \n",
            "[FixupM4a] Correcting container of \"/content/drive/MyDrive/Data/9d483643-b3b4-45fb-b289-acbbb436a711\"\n",
            "[ExtractAudio] Destination: /content/drive/MyDrive/Data/9d483643-b3b4-45fb-b289-acbbb436a711.mp3\n",
            "Deleting original file /content/drive/MyDrive/Data/9d483643-b3b4-45fb-b289-acbbb436a711 (pass -k to keep)\n",
            "Audio downloaded to /content/drive/MyDrive/Data/9d483643-b3b4-45fb-b289-acbbb436a711.mp3\n",
            "<pydub.audio_segment.AudioSegment object at 0x78b0885bffd0>\n",
            "Chunk 1 size: 1.68 MB\n",
            "Chunk 2 size: 1.68 MB\n",
            "Chunk 3 size: 1.68 MB\n",
            "Chunk 4 size: 1.68 MB\n",
            "Chunk 5 size: 1.68 MB\n",
            "Chunk 6 size: 1.68 MB\n",
            "Chunk 7 size: 1.68 MB\n",
            "Chunk 8 size: 1.68 MB\n",
            "Chunk 9 size: 1.68 MB\n",
            "Chunk 10 size: 1.68 MB\n",
            "Chunk 11 size: 1.68 MB\n",
            "Chunk 12 size: 1.68 MB\n",
            "Chunk 13 size: 1.68 MB\n",
            "Chunk 14 size: 1.68 MB\n",
            "Chunk 15 size: 1.68 MB\n",
            "Chunk 16 size: 1.68 MB\n",
            "Chunk 17 size: 1.68 MB\n",
            "Chunk 18 size: 1.68 MB\n",
            "Chunk 19 size: 1.68 MB\n",
            "Chunk 20 size: 1.68 MB\n",
            "Chunk 21 size: 1.68 MB\n",
            "Chunk 22 size: 1.68 MB\n",
            "Chunk 23 size: 1.68 MB\n",
            "Chunk 24 size: 1.68 MB\n",
            "Chunk 25 size: 1.68 MB\n",
            "Chunk 26 size: 1.68 MB\n",
            "Chunk 27 size: 1.68 MB\n",
            "Chunk 28 size: 1.68 MB\n",
            "Chunk 29 size: 1.68 MB\n",
            "Chunk 30 size: 1.68 MB\n",
            "Chunk 31 size: 1.68 MB\n",
            "Chunk 32 size: 1.68 MB\n",
            "Chunk 33 size: 1.68 MB\n",
            "Chunk 34 size: 1.68 MB\n",
            "Chunk 35 size: 1.68 MB\n",
            "Chunk 36 size: 1.68 MB\n",
            "Chunk 37 size: 1.68 MB\n",
            "Chunk 38 size: 1.68 MB\n",
            "Chunk 39 size: 1.68 MB\n",
            "Chunk 40 size: 1.68 MB\n",
            "Chunk 41 size: 1.68 MB\n",
            "Chunk 42 size: 1.68 MB\n",
            "Chunk 43 size: 1.68 MB\n",
            "Chunk 44 size: 1.68 MB\n",
            "Chunk 45 size: 1.68 MB\n",
            "Chunk 46 size: 1.68 MB\n",
            "Chunk 47 size: 1.68 MB\n",
            "Chunk 48 size: 1.68 MB\n",
            "Chunk 49 size: 1.68 MB\n",
            "Chunk 50 size: 1.68 MB\n",
            "Chunk 51 size: 1.68 MB\n",
            "Chunk 52 size: 1.68 MB\n",
            "Chunk 53 size: 1.68 MB\n",
            "Chunk 54 size: 1.68 MB\n",
            "Chunk 55 size: 1.68 MB\n",
            "Chunk 56 size: 1.68 MB\n",
            "Chunk 57 size: 1.68 MB\n",
            "Chunk 58 size: 1.68 MB\n",
            "Chunk 59 size: 1.68 MB\n",
            "Chunk 60 size: 1.68 MB\n",
            "Chunk 61 size: 1.68 MB\n",
            "Chunk 62 size: 1.68 MB\n",
            "Chunk 63 size: 1.68 MB\n",
            "Chunk 64 size: 1.68 MB\n",
            "Chunk 65 size: 1.68 MB\n",
            "Chunk 66 size: 1.68 MB\n",
            "Chunk 67 size: 1.68 MB\n",
            "Chunk 68 size: 1.68 MB\n",
            "Chunk 69 size: 1.68 MB\n",
            "Chunk 70 size: 1.68 MB\n",
            "Chunk 71 size: 1.68 MB\n",
            "Chunk 72 size: 0.84 MB\n",
            "Audio split into 72 chunks.\n"
          ]
        },
        {
          "output_type": "stream",
          "name": "stderr",
          "text": [
            "Transcribing audio chunks: 100%|██████████| 72/72 [05:28<00:00,  4.56s/it]"
          ]
        },
        {
          "output_type": "stream",
          "name": "stdout",
          "text": [
            "Transcription complete. Transcript saved to /content/drive/MyDrive/Data/transcript.txt\n"
          ]
        },
        {
          "output_type": "stream",
          "name": "stderr",
          "text": [
            "\n"
          ]
        }
      ]
    },
    {
      "cell_type": "code",
      "source": [],
      "metadata": {
        "id": "Jr5SeqtyNVsx"
      },
      "execution_count": null,
      "outputs": []
    }
  ],
  "metadata": {
    "language_info": {
      "name": "python"
    },
    "colab": {
      "provenance": [],
      "include_colab_link": true
    },
    "kernelspec": {
      "name": "python3",
      "display_name": "Python 3"
    }
  },
  "nbformat": 4,
  "nbformat_minor": 0
}